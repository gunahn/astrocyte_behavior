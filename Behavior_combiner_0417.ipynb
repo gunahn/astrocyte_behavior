{
 "cells": [
  {
   "cell_type": "code",
   "execution_count": 52,
   "id": "f15dd67b-585f-4201-8745-a7cd14b7b8e4",
   "metadata": {},
   "outputs": [],
   "source": [
    "#!/usr/bin/env python3\n",
    "# -*- coding: utf-8 -*-\n",
    "\"\"\"\n",
    "Created on Mon Apr 17 15:17:00 2023\n",
    "\n",
    "@author: gunahn\n",
    "\n",
    "@contributer: Evan \n",
    "\"\"\"\n",
    "\n",
    "import pandas as pd\n",
    "import math\n",
    "import glob\n",
    "import os \n",
    "\n",
    "from tqdm import tqdm\n",
    "\n",
    "#imports file and renames the column headers\n",
    "def import_VF_csv(VFname):\n",
    "    VF = pd.read_csv(VFname)\n",
    "    VF.columns = ['Location', 'Tailx', 'Taily', 'TailLikely', 'BaseTailx', 'BaseTaily', 'BaseTailLikely', 'CBodyx', 'CBodyy', 'CBodyLikely', 'neckx', 'necky' , 'neckLikely' , 'Snoutx', 'Snouty', 'SnoutLikely', 'RFrx', 'RFry', 'RFrLikely', 'LFrx', 'LFry', 'LFrLikely', 'RBackx', 'RBacky', 'RBackLikely', 'LBackx', 'LBacky', 'LBackLikely']\n",
    "    return(VF)\n",
    "\n",
    "\n",
    "#cleans up the location data so that there are no outliers\n",
    "def clean_VF(VF):\n",
    "    newVF = VF.copy()\n",
    "    changes = 0\n",
    "    errordist = 0\n",
    "    for n in range(2, len(newVF.index), 1):\n",
    "        if n == 2:\n",
    "            pastx, pasty = newVF.loc[n].at['Tailx'], newVF.loc[n].at['Taily']\n",
    "        else:\n",
    "            if errordist > 6:\n",
    "                errordist = 0\n",
    "            elif math.dist([float(newVF.loc[n].at['Tailx']), float(newVF.loc[n].at['Taily'])],[float(newVF.loc[n].at['BaseTailx']), float(newVF.loc[n].at['BaseTaily'])]) > (8 * math.dist([float(newVF.loc[n].at['Tailx']), float(newVF.loc[n].at['Taily'])],[float(newVF.loc[n].at['Snoutx']), float(newVF.loc[n].at['Snouty'])])):\n",
    "                newVF.loc[n, 'Tailx'] = pastx\n",
    "                newVF.loc[n, 'Taily'] = pasty\n",
    "                changes += 1\n",
    "                errordist += 1\n",
    "            #checks if the tail location has moved more than the max speed. If so, it will take the old location of the tail, only if the old location is in a reasonable range of the length of the tail\n",
    "            elif math.dist([float(pastx), float(pasty)], [float(newVF.loc[n].at['Tailx']), float(newVF.loc[n].at['Taily'])]) > 150:\n",
    "                if math.dist([float(pastx), float(pasty)],[float(newVF.loc[n].at['BaseTailx']), float(newVF.loc[n].at['BaseTaily'])]) < 250*1.5:\n",
    "                    newVF.loc[n, 'Tailx'] = pastx\n",
    "                    newVF.loc[n, 'Taily'] = pasty\n",
    "                    changes += 1\n",
    "                    errordist += 1\n",
    "            elif math.dist([float(newVF.loc[n].at['Tailx']), float(newVF.loc[n].at['Taily'])],[float(newVF.loc[n].at['BaseTailx']), float(newVF.loc[n].at['BaseTaily'])]) > 250*1.2: #This checks if distance to base of tail is longer than length of tail\n",
    "                newVF.loc[n, 'Tailx'] = pastx\n",
    "                newVF.loc[n, 'Taily'] = pasty\n",
    "                changes += 1\n",
    "                errordist += 1\n",
    "            else:\n",
    "                errordist = 0\n",
    "            pastx, pasty = newVF.loc[n].at['Tailx'], newVF.loc[n].at['Taily']\n",
    "    print('Total number of changes: ' + str(changes))\n",
    "    return(newVF)\n",
    "\n",
    "\n",
    "def add_kinematics(df):\n",
    "    '''\n",
    "    This function will take a dataframe (df) and will compute kinematic data such as speed...\n",
    "    Will return the modified df as the output.\n",
    "    '''\n",
    "    speeds = [None] * len(df.index)\n",
    "    \n",
    "    df[\"Speed\"] = speeds\n",
    "    \n",
    "    for n in range(4, len(df.index), 1): #this does not compute the kinematic data for the first frame since there is no previous frame to get speed from\n",
    "        df.loc[n, 'Speed'] = math.dist([float(df.loc[n, 'CBodyx']), float(df.loc[n, 'CBodyy'])], [float(df.loc[n-1, 'CBodyx']), float(df.loc[n-1, 'CBodyy'])]) * 30\n",
    "\n",
    "    return df\n",
    "    \n",
    "\n",
    "def combine_dfs(video_df, ttl_df):\n",
    "    '''\n",
    "    This function will take the video dataframe and the ttl dataframe and add them togehter\n",
    "    '''\n",
    "    video_df.drop([0,1], axis=0, inplace= True) # This removes the first two rows from the video df since it does not contain useful data\n",
    "    # reset index of video_df\n",
    "    video_df.reset_index(drop=True, inplace=True)\n",
    "\n",
    "    ttl_df_new = ttl_df.iloc[:len(video_df.index)]\n",
    "    result = pd.concat((video_df, ttl_df_new), axis = 1)\n",
    "    return result\n",
    "\n",
    "def categorize_ttl_data(df):\n",
    "    category = [None] * len(df.index)\n",
    "    turned = False\n",
    "    for n in range(len(df.index)):\n",
    "        if df.loc[n, 'Trial On']:\n",
    "            if df.loc[n, 'In Turn Area']:\n",
    "                turned = True\n",
    "            if turned:\n",
    "                category[n] = \"Turned\"\n",
    "            else:\n",
    "                category[n] = \"Trial on\"\n",
    "        else:\n",
    "            turned = False\n",
    "            \n",
    "    df[\"Category\"] = category\n",
    "    return df\n",
    "\n",
    "\n"
   ]
  },
  {
   "cell_type": "code",
   "execution_count": 53,
   "id": "44aabb89-3c37-4181-b19c-974ce2c53cc6",
   "metadata": {},
   "outputs": [],
   "source": [
    "def VF_ttl_combiner(VFname,ttlname,animal_number):\n",
    "    #VFname = 'Day_20_2ch_GFAP_D_2022-11-29T10_02_16DLC_resnet50_maze_221230Dec30shuffle1_250000.csv'\n",
    "    #ttlname = 'Day_20_2ch_GFAP_D_2022-11-29T10_02_15.csv'\n",
    "\n",
    "    VF = import_VF_csv(VFname) #coordinate data to be cleaned\n",
    "    newVF = clean_VF(VF) # This df contains the coordinate data\n",
    "\n",
    "    newVF_kinematic = add_kinematics(newVF) # this is the positional dataframe with speed added on as a column\n",
    "    ttl_action_df = pd.read_csv(ttlname) # this df contains the action data for the mouse\n",
    "    ttl_action_df.columns = [\"Total Entries\", \"Rewarded Choice\", \"Frames\", \"Timestamp\", \"Entries(even if out of task)\", \"left entry\", \"right entry\", \"Trial On\", \"In Turn Area\", \"Left correct+rewarded\", \"Right correct+rewarded\", \"Initiation(start) counter\", \"Left correct+omission\", \"Right correct+omission\", \"Left error\", \"Right error\", \"Airpuff\", \"Left or Right correct(Left=True)\", \"L/R switch count\"]\n",
    "    categorized_ttl = categorize_ttl_data(ttl_action_df)\n",
    "\n",
    "\n",
    "    #########combination section\n",
    "\n",
    "    output = combine_dfs(newVF_kinematic, categorized_ttl)\n",
    "    \n",
    "    try:\n",
    "        os.makedirs('/Users/gunahn/Desktop/MIT/Habit_Breaking_Da_Ast/Data/GFAP_Behavior_0418/{}'.format(animal_number))\n",
    "    except FileExistsError:\n",
    "        # directory already exists\n",
    "        pass\n",
    "    for_file_name = ttlname.split('/')[-1]\n",
    "    print(animal_number)\n",
    "    print(for_file_name)\n",
    "    output.to_csv('/Users/gunahn/Desktop/MIT/Habit_Breaking_Da_Ast/Data/GFAP_Behavior_0418/{}/{}_{}'.format(animal_number,animal_number, for_file_name))"
   ]
  },
  {
   "cell_type": "code",
   "execution_count": 5,
   "id": "e717b48a-a335-4fd8-a0fc-d1c7edde6f9c",
   "metadata": {},
   "outputs": [],
   "source": [
    "path = '/Users/gunahn/Desktop/MIT/Habit_Breaking_Da_Ast/Data/2chSw_221020_Bonsai/GFAP_221021_DLC'"
   ]
  },
  {
   "cell_type": "code",
   "execution_count": 13,
   "id": "d70e89a8-5140-434f-901f-ab07b77c3e4e",
   "metadata": {},
   "outputs": [],
   "source": [
    "all_list =  glob.glob(\"/Users/gunahn/Desktop/MIT/Habit_Breaking_Da_Ast/Data/2chSw_221020_Bonsai/GFAP_221021_DLC/*.csv\")\n"
   ]
  },
  {
   "cell_type": "code",
   "execution_count": 47,
   "id": "7441ea2d-0cd5-4f7b-95d2-385fa7953085",
   "metadata": {},
   "outputs": [
    {
     "data": {
      "text/plain": [
       "'Day_14_2ch_GFAP_D_2022-11-15T10_56_41.csv'"
      ]
     },
     "execution_count": 47,
     "metadata": {},
     "output_type": "execute_result"
    }
   ],
   "source": [
    "VFname_list = []\n",
    "ttlname_list = []\n",
    "for count, value in enumerate(all_list):\n",
    "    if count%3 == 0:\n",
    "        ttlname_list.append(value)\n",
    "    elif count%3 == 2:\n",
    "        VFname_list.append(value)"
   ]
  },
  {
   "cell_type": "code",
   "execution_count": 56,
   "id": "916c6bf6-5c50-4874-8626-b4ab84b51993",
   "metadata": {
    "collapsed": true,
    "jupyter": {
     "outputs_hidden": true
    },
    "tags": []
   },
   "outputs": [
    {
     "name": "stderr",
     "output_type": "stream",
     "text": [
      "  0%|          | 0/70 [00:00<?, ?it/s]/var/folders/zx/mr5vw08n18jfshsf89hf76v40000gn/T/ipykernel_20106/1805611762.py:20: DtypeWarning: Columns (0,1,2,3,4,5,6,7,8,9,10,11,12,13,14,15,16,17,18,19,20,21,22,23,24,25,26,27) have mixed types. Specify dtype option on import or set low_memory=False.\n",
      "  VF = pd.read_csv(VFname)\n"
     ]
    },
    {
     "name": "stdout",
     "output_type": "stream",
     "text": [
      "Total number of changes: 1964\n",
      "1\n",
      "Day_14_2ch_GFAP_D_2022-11-15T10_56_41.csv\n"
     ]
    },
    {
     "name": "stderr",
     "output_type": "stream",
     "text": [
      "  1%|▏         | 1/70 [00:17<19:48, 17.22s/it]/var/folders/zx/mr5vw08n18jfshsf89hf76v40000gn/T/ipykernel_20106/1805611762.py:20: DtypeWarning: Columns (0,1,2,3,4,5,6,7,8,9,10,11,12,13,14,15,16,17,18,19,20,21,22,23,24,25,26,27) have mixed types. Specify dtype option on import or set low_memory=False.\n",
      "  VF = pd.read_csv(VFname)\n"
     ]
    },
    {
     "name": "stdout",
     "output_type": "stream",
     "text": [
      "Total number of changes: 3272\n",
      "2\n",
      "Day_14_2ch_GFAP_D_2022-11-15T11_22_54.csv\n"
     ]
    },
    {
     "name": "stderr",
     "output_type": "stream",
     "text": [
      "  3%|▎         | 2/70 [00:35<20:09, 17.79s/it]/var/folders/zx/mr5vw08n18jfshsf89hf76v40000gn/T/ipykernel_20106/1805611762.py:20: DtypeWarning: Columns (0,1,2,3,4,5,6,7,8,9,10,11,12,13,14,15,16,17,18,19,20,21,22,23,24,25,26,27) have mixed types. Specify dtype option on import or set low_memory=False.\n",
      "  VF = pd.read_csv(VFname)\n"
     ]
    },
    {
     "name": "stdout",
     "output_type": "stream",
     "text": [
      "Total number of changes: 3942\n",
      "3\n",
      "Day_14_2ch_GFAP_D_2022-11-15T11_49_10.csv\n"
     ]
    },
    {
     "name": "stderr",
     "output_type": "stream",
     "text": [
      "  4%|▍         | 3/70 [00:55<21:07, 18.92s/it]"
     ]
    },
    {
     "name": "stdout",
     "output_type": "stream",
     "text": [
      "Total number of changes: 2400\n",
      "4\n",
      "Day_14_2ch_GFAP_D_2022-11-15T12_16_21.csv\n"
     ]
    },
    {
     "name": "stderr",
     "output_type": "stream",
     "text": [
      "  6%|▌         | 4/70 [01:08<18:05, 16.45s/it]/var/folders/zx/mr5vw08n18jfshsf89hf76v40000gn/T/ipykernel_20106/1805611762.py:20: DtypeWarning: Columns (0,1,2,3,4,5,6,7,8,9,10,11,12,13,14,15,16,17,18,19,20,21,22,23,24,25,26,27) have mixed types. Specify dtype option on import or set low_memory=False.\n",
      "  VF = pd.read_csv(VFname)\n"
     ]
    },
    {
     "name": "stdout",
     "output_type": "stream",
     "text": [
      "Total number of changes: 2448\n",
      "5\n",
      "Day_14_2ch_GFAP_D_2022-11-15T12_36_09.csv\n"
     ]
    },
    {
     "name": "stderr",
     "output_type": "stream",
     "text": [
      "  7%|▋         | 5/70 [01:27<18:56, 17.48s/it]/var/folders/zx/mr5vw08n18jfshsf89hf76v40000gn/T/ipykernel_20106/1805611762.py:20: DtypeWarning: Columns (0,1,2,3,4,5,6,7,8,9,10,11,12,13,14,15,16,17,18,19,20,21,22,23,24,25,26,27) have mixed types. Specify dtype option on import or set low_memory=False.\n",
      "  VF = pd.read_csv(VFname)\n"
     ]
    },
    {
     "name": "stdout",
     "output_type": "stream",
     "text": [
      "Total number of changes: 3057\n",
      "1\n",
      "Day_15_2ch_GFAP_D_2022-11-16T13_08_02.csv\n"
     ]
    },
    {
     "name": "stderr",
     "output_type": "stream",
     "text": [
      "  9%|▊         | 6/70 [01:45<18:37, 17.46s/it]/var/folders/zx/mr5vw08n18jfshsf89hf76v40000gn/T/ipykernel_20106/1805611762.py:20: DtypeWarning: Columns (0,1,2,3,4,5,6,7,8,9,10,11,12,13,14,15,16,17,18,19,20,21,22,23,24,25,26,27) have mixed types. Specify dtype option on import or set low_memory=False.\n",
      "  VF = pd.read_csv(VFname)\n"
     ]
    },
    {
     "name": "stdout",
     "output_type": "stream",
     "text": [
      "Total number of changes: 4322\n",
      "2\n",
      "Day_15_2ch_GFAP_D_2022-11-16T13_34_08.csv\n"
     ]
    },
    {
     "name": "stderr",
     "output_type": "stream",
     "text": [
      " 10%|█         | 7/70 [02:04<19:06, 18.19s/it]/var/folders/zx/mr5vw08n18jfshsf89hf76v40000gn/T/ipykernel_20106/1805611762.py:20: DtypeWarning: Columns (0,1,2,3,4,5,6,7,8,9,10,11,12,13,14,15,16,17,18,19,20,21,22,23,24,25,26,27) have mixed types. Specify dtype option on import or set low_memory=False.\n",
      "  VF = pd.read_csv(VFname)\n"
     ]
    },
    {
     "name": "stdout",
     "output_type": "stream",
     "text": [
      "Total number of changes: 14556\n",
      "3\n",
      "Day_15_2ch_GFAP_D_2022-11-16T14_08_37.csv\n"
     ]
    },
    {
     "name": "stderr",
     "output_type": "stream",
     "text": [
      " 11%|█▏        | 8/70 [02:24<19:24, 18.79s/it]/var/folders/zx/mr5vw08n18jfshsf89hf76v40000gn/T/ipykernel_20106/1805611762.py:20: DtypeWarning: Columns (0,1,2,3,4,5,6,7,8,9,10,11,12,13,14,15,16,17,18,19,20,21,22,23,24,25,26,27) have mixed types. Specify dtype option on import or set low_memory=False.\n",
      "  VF = pd.read_csv(VFname)\n"
     ]
    },
    {
     "name": "stdout",
     "output_type": "stream",
     "text": [
      "Total number of changes: 8905\n",
      "4\n",
      "Day_15_2ch_GFAP_D_2022-11-16T14_41_06.csv\n"
     ]
    },
    {
     "name": "stderr",
     "output_type": "stream",
     "text": [
      " 13%|█▎        | 9/70 [02:53<22:18, 21.95s/it]/var/folders/zx/mr5vw08n18jfshsf89hf76v40000gn/T/ipykernel_20106/1805611762.py:20: DtypeWarning: Columns (0,1,2,3,4,5,6,7,8,9,10,11,12,13,14,15,16,17,18,19,20,21,22,23,24,25,26,27) have mixed types. Specify dtype option on import or set low_memory=False.\n",
      "  VF = pd.read_csv(VFname)\n"
     ]
    },
    {
     "name": "stdout",
     "output_type": "stream",
     "text": [
      "Total number of changes: 6124\n",
      "5\n",
      "Day_15_2ch_GFAP_D_2022-11-16T15_21_38.csv\n"
     ]
    },
    {
     "name": "stderr",
     "output_type": "stream",
     "text": [
      " 14%|█▍        | 10/70 [03:12<21:02, 21.04s/it]/var/folders/zx/mr5vw08n18jfshsf89hf76v40000gn/T/ipykernel_20106/1805611762.py:20: DtypeWarning: Columns (0,1,2,3,4,5,6,7,8,9,10,11,12,13,14,15,16,17,18,19,20,21,22,23,24,25,26,27) have mixed types. Specify dtype option on import or set low_memory=False.\n",
      "  VF = pd.read_csv(VFname)\n"
     ]
    },
    {
     "name": "stdout",
     "output_type": "stream",
     "text": [
      "Total number of changes: 3184\n",
      "1\n",
      "Day_16_2ch_GFAP_D_2022-11-17T13_52_19.csv\n"
     ]
    },
    {
     "name": "stderr",
     "output_type": "stream",
     "text": [
      " 16%|█▌        | 11/70 [03:30<19:33, 19.89s/it]/var/folders/zx/mr5vw08n18jfshsf89hf76v40000gn/T/ipykernel_20106/1805611762.py:20: DtypeWarning: Columns (0,1,2,3,4,5,6,7,8,9,10,11,12,13,14,15,16,17,18,19,20,21,22,23,24,25,26,27) have mixed types. Specify dtype option on import or set low_memory=False.\n",
      "  VF = pd.read_csv(VFname)\n"
     ]
    },
    {
     "name": "stdout",
     "output_type": "stream",
     "text": [
      "Total number of changes: 3523\n",
      "2\n",
      "Day_16_2ch_GFAP_D_2022-11-17T14_15_50.csv\n"
     ]
    },
    {
     "name": "stderr",
     "output_type": "stream",
     "text": [
      " 17%|█▋        | 12/70 [03:46<18:16, 18.90s/it]/var/folders/zx/mr5vw08n18jfshsf89hf76v40000gn/T/ipykernel_20106/1805611762.py:20: DtypeWarning: Columns (0,1,2,3,4,5,6,7,8,9,10,11,12,13,14,15,16,17,18,19,20,21,22,23,24,25,26,27) have mixed types. Specify dtype option on import or set low_memory=False.\n",
      "  VF = pd.read_csv(VFname)\n"
     ]
    },
    {
     "name": "stdout",
     "output_type": "stream",
     "text": [
      "Total number of changes: 4565\n",
      "3\n",
      "Day_16_2ch_GFAP_D_2022-11-17T14_38_06.csv\n"
     ]
    },
    {
     "name": "stderr",
     "output_type": "stream",
     "text": [
      " 19%|█▊        | 13/70 [04:02<17:11, 18.10s/it]/var/folders/zx/mr5vw08n18jfshsf89hf76v40000gn/T/ipykernel_20106/1805611762.py:20: DtypeWarning: Columns (0,1,2,3,4,5,6,7,8,9,10,11,12,13,14,15,16,17,18,19,20,21,22,23,24,25,26,27) have mixed types. Specify dtype option on import or set low_memory=False.\n",
      "  VF = pd.read_csv(VFname)\n"
     ]
    },
    {
     "name": "stdout",
     "output_type": "stream",
     "text": [
      "Total number of changes: 5489\n",
      "4\n",
      "Day_16_2ch_GFAP_D_2022-11-17T14_59_44.csv\n"
     ]
    },
    {
     "name": "stderr",
     "output_type": "stream",
     "text": [
      " 20%|██        | 14/70 [04:20<16:41, 17.88s/it]/var/folders/zx/mr5vw08n18jfshsf89hf76v40000gn/T/ipykernel_20106/1805611762.py:20: DtypeWarning: Columns (0,1,2,3,4,5,6,7,8,9,10,11,12,13,14,15,16,17,18,19,20,21,22,23,24,25,26,27) have mixed types. Specify dtype option on import or set low_memory=False.\n",
      "  VF = pd.read_csv(VFname)\n"
     ]
    },
    {
     "name": "stdout",
     "output_type": "stream",
     "text": [
      "Total number of changes: 6680\n",
      "5\n",
      "Day_16_2ch_GFAP_D_2022-11-17T15_24_40.csv\n"
     ]
    },
    {
     "name": "stderr",
     "output_type": "stream",
     "text": [
      " 21%|██▏       | 15/70 [04:43<17:56, 19.56s/it]"
     ]
    },
    {
     "name": "stdout",
     "output_type": "stream",
     "text": [
      "Total number of changes: 2549\n",
      "1\n",
      "Day_17_2ch_GFAP_D_2022-11-22T10_00_07.csv\n"
     ]
    },
    {
     "name": "stderr",
     "output_type": "stream",
     "text": [
      " 23%|██▎       | 16/70 [04:57<16:00, 17.78s/it]/var/folders/zx/mr5vw08n18jfshsf89hf76v40000gn/T/ipykernel_20106/1805611762.py:20: DtypeWarning: Columns (0,1,2,3,4,5,6,7,8,9,10,11,12,13,14,15,16,17,18,19,20,21,22,23,24,25,26,27) have mixed types. Specify dtype option on import or set low_memory=False.\n",
      "  VF = pd.read_csv(VFname)\n"
     ]
    },
    {
     "name": "stdout",
     "output_type": "stream",
     "text": [
      "Total number of changes: 2593\n",
      "2\n",
      "Day_17_2ch_GFAP_D_2022-11-22T10_20_10.csv\n"
     ]
    },
    {
     "name": "stderr",
     "output_type": "stream",
     "text": [
      " 24%|██▍       | 17/70 [05:14<15:39, 17.72s/it]/var/folders/zx/mr5vw08n18jfshsf89hf76v40000gn/T/ipykernel_20106/1805611762.py:20: DtypeWarning: Columns (0,1,2,3,4,5,6,7,8,9,10,11,12,13,14,15,16,17,18,19,20,21,22,23,24,25,26,27) have mixed types. Specify dtype option on import or set low_memory=False.\n",
      "  VF = pd.read_csv(VFname)\n"
     ]
    },
    {
     "name": "stdout",
     "output_type": "stream",
     "text": [
      "Total number of changes: 2871\n",
      "3\n",
      "Day_17_2ch_GFAP_D_2022-11-22T10_44_37.csv\n"
     ]
    },
    {
     "name": "stderr",
     "output_type": "stream",
     "text": [
      " 26%|██▌       | 18/70 [05:32<15:18, 17.66s/it]/var/folders/zx/mr5vw08n18jfshsf89hf76v40000gn/T/ipykernel_20106/1805611762.py:20: DtypeWarning: Columns (0,1,2,3,4,5,6,7,8,9,10,11,12,13,14,15,16,17,18,19,20,21,22,23,24,25,26,27) have mixed types. Specify dtype option on import or set low_memory=False.\n",
      "  VF = pd.read_csv(VFname)\n"
     ]
    },
    {
     "name": "stdout",
     "output_type": "stream",
     "text": [
      "Total number of changes: 3151\n",
      "4\n",
      "Day_17_2ch_GFAP_D_2022-11-22T11_08_35.csv\n"
     ]
    },
    {
     "name": "stderr",
     "output_type": "stream",
     "text": [
      " 27%|██▋       | 19/70 [05:54<16:06, 18.96s/it]/var/folders/zx/mr5vw08n18jfshsf89hf76v40000gn/T/ipykernel_20106/1805611762.py:20: DtypeWarning: Columns (0,1,2,3,4,5,6,7,8,9,10,11,12,13,14,15,16,17,18,19,20,21,22,23,24,25,26,27) have mixed types. Specify dtype option on import or set low_memory=False.\n",
      "  VF = pd.read_csv(VFname)\n"
     ]
    },
    {
     "name": "stdout",
     "output_type": "stream",
     "text": [
      "Total number of changes: 2643\n",
      "5\n",
      "Day_17_2ch_GFAP_D_2022-11-22T11_38_03.csv\n"
     ]
    },
    {
     "name": "stderr",
     "output_type": "stream",
     "text": [
      " 29%|██▊       | 20/70 [06:13<15:42, 18.86s/it]/var/folders/zx/mr5vw08n18jfshsf89hf76v40000gn/T/ipykernel_20106/1805611762.py:20: DtypeWarning: Columns (0,1,2,3,4,5,6,7,8,9,10,11,12,13,14,15,16,17,18,19,20,21,22,23,24,25,26,27) have mixed types. Specify dtype option on import or set low_memory=False.\n",
      "  VF = pd.read_csv(VFname)\n"
     ]
    },
    {
     "name": "stdout",
     "output_type": "stream",
     "text": [
      "Total number of changes: 2930\n",
      "1\n",
      "Day_18_2ch_GFAP_D_2022-11-23T12_01_29.csv\n"
     ]
    },
    {
     "name": "stderr",
     "output_type": "stream",
     "text": [
      " 30%|███       | 21/70 [06:30<15:06, 18.51s/it]/var/folders/zx/mr5vw08n18jfshsf89hf76v40000gn/T/ipykernel_20106/1805611762.py:20: DtypeWarning: Columns (0,1,2,3,4,5,6,7,8,9,10,11,12,13,14,15,16,17,18,19,20,21,22,23,24,25,26,27) have mixed types. Specify dtype option on import or set low_memory=False.\n",
      "  VF = pd.read_csv(VFname)\n"
     ]
    },
    {
     "name": "stdout",
     "output_type": "stream",
     "text": [
      "Total number of changes: 1759\n",
      "2\n",
      "Day_18_2ch_GFAP_D_2022-11-23T12_25_34.csv\n"
     ]
    },
    {
     "name": "stderr",
     "output_type": "stream",
     "text": [
      " 31%|███▏      | 22/70 [06:47<14:22, 17.97s/it]"
     ]
    },
    {
     "name": "stdout",
     "output_type": "stream",
     "text": [
      "Total number of changes: 1309\n",
      "3\n",
      "Day_18_2ch_GFAP_D_2022-11-23T13_00_08.csv\n"
     ]
    },
    {
     "name": "stderr",
     "output_type": "stream",
     "text": [
      " 33%|███▎      | 23/70 [06:59<12:40, 16.18s/it]/var/folders/zx/mr5vw08n18jfshsf89hf76v40000gn/T/ipykernel_20106/1805611762.py:20: DtypeWarning: Columns (0,1,2,3,4,5,6,7,8,9,10,11,12,13,14,15,16,17,18,19,20,21,22,23,24,25,26,27) have mixed types. Specify dtype option on import or set low_memory=False.\n",
      "  VF = pd.read_csv(VFname)\n"
     ]
    },
    {
     "name": "stdout",
     "output_type": "stream",
     "text": [
      "Total number of changes: 2026\n",
      "4\n",
      "Day_18_2ch_GFAP_D_2022-11-23T13_16_39.csv\n"
     ]
    },
    {
     "name": "stderr",
     "output_type": "stream",
     "text": [
      " 34%|███▍      | 24/70 [07:17<12:51, 16.77s/it]"
     ]
    },
    {
     "name": "stdout",
     "output_type": "stream",
     "text": [
      "Total number of changes: 3089\n",
      "5\n",
      "Day_18_2ch_GFAP_D_2022-11-23T13_40_17.csv\n"
     ]
    },
    {
     "name": "stderr",
     "output_type": "stream",
     "text": [
      " 36%|███▌      | 25/70 [07:31<11:50, 15.78s/it]"
     ]
    },
    {
     "name": "stdout",
     "output_type": "stream",
     "text": [
      "Total number of changes: 1413\n",
      "1\n",
      "Day_19_2ch_GFAP_D_2022-11-25T09_56_27.csv\n"
     ]
    },
    {
     "name": "stderr",
     "output_type": "stream",
     "text": [
      " 37%|███▋      | 26/70 [07:45<11:21, 15.50s/it]"
     ]
    },
    {
     "name": "stdout",
     "output_type": "stream",
     "text": [
      "Total number of changes: 1478\n",
      "2\n",
      "Day_19_2ch_GFAP_D_2022-11-25T11_11_39.csv\n"
     ]
    },
    {
     "name": "stderr",
     "output_type": "stream",
     "text": [
      " 39%|███▊      | 27/70 [08:00<10:49, 15.10s/it]"
     ]
    },
    {
     "name": "stdout",
     "output_type": "stream",
     "text": [
      "Total number of changes: 1789\n",
      "3\n",
      "Day_19_2ch_GFAP_D_2022-11-25T11_31_30.csv\n"
     ]
    },
    {
     "name": "stderr",
     "output_type": "stream",
     "text": [
      " 40%|████      | 28/70 [08:13<10:09, 14.51s/it]"
     ]
    },
    {
     "name": "stdout",
     "output_type": "stream",
     "text": [
      "Total number of changes: 2121\n",
      "4\n",
      "Day_19_2ch_GFAP_D_2022-11-25T11_49_24.csv\n"
     ]
    },
    {
     "name": "stderr",
     "output_type": "stream",
     "text": [
      " 41%|████▏     | 29/70 [08:26<09:35, 14.04s/it]/var/folders/zx/mr5vw08n18jfshsf89hf76v40000gn/T/ipykernel_20106/1805611762.py:20: DtypeWarning: Columns (0,1,2,3,4,5,6,7,8,9,10,11,12,13,14,15,16,17,18,19,20,21,22,23,24,25,26,27) have mixed types. Specify dtype option on import or set low_memory=False.\n",
      "  VF = pd.read_csv(VFname)\n"
     ]
    },
    {
     "name": "stdout",
     "output_type": "stream",
     "text": [
      "Total number of changes: 3242\n",
      "5\n",
      "Day_19_2ch_GFAP_D_2022-11-25T12_07_14.csv\n"
     ]
    },
    {
     "name": "stderr",
     "output_type": "stream",
     "text": [
      " 43%|████▎     | 30/70 [08:42<09:42, 14.57s/it]/var/folders/zx/mr5vw08n18jfshsf89hf76v40000gn/T/ipykernel_20106/1805611762.py:20: DtypeWarning: Columns (0,1,2,3,4,5,6,7,8,9,10,11,12,13,14,15,16,17,18,19,20,21,22,23,24,25,26,27) have mixed types. Specify dtype option on import or set low_memory=False.\n",
      "  VF = pd.read_csv(VFname)\n"
     ]
    },
    {
     "name": "stdout",
     "output_type": "stream",
     "text": [
      "Total number of changes: 3371\n",
      "1\n",
      "Day_20_2ch_GFAP_D_2022-11-29T10_02_15.csv\n"
     ]
    },
    {
     "name": "stderr",
     "output_type": "stream",
     "text": [
      " 44%|████▍     | 31/70 [09:06<11:21, 17.46s/it]/var/folders/zx/mr5vw08n18jfshsf89hf76v40000gn/T/ipykernel_20106/1805611762.py:20: DtypeWarning: Columns (0,1,2,3,4,5,6,7,8,9,10,11,12,13,14,15,16,17,18,19,20,21,22,23,24,25,26,27) have mixed types. Specify dtype option on import or set low_memory=False.\n",
      "  VF = pd.read_csv(VFname)\n"
     ]
    },
    {
     "name": "stdout",
     "output_type": "stream",
     "text": [
      "Total number of changes: 1547\n",
      "2\n",
      "Day_20_2ch_GFAP_D_2022-11-29T10_35_31.csv\n"
     ]
    },
    {
     "name": "stderr",
     "output_type": "stream",
     "text": [
      " 46%|████▌     | 32/70 [09:23<11:04, 17.49s/it]/var/folders/zx/mr5vw08n18jfshsf89hf76v40000gn/T/ipykernel_20106/1805611762.py:20: DtypeWarning: Columns (0,1,2,3,4,5,6,7,8,9,10,11,12,13,14,15,16,17,18,19,20,21,22,23,24,25,26,27) have mixed types. Specify dtype option on import or set low_memory=False.\n",
      "  VF = pd.read_csv(VFname)\n"
     ]
    },
    {
     "name": "stdout",
     "output_type": "stream",
     "text": [
      "Total number of changes: 2881\n",
      "3\n",
      "Day_20_2ch_GFAP_D_2022-11-29T10_58_20.csv\n"
     ]
    },
    {
     "name": "stderr",
     "output_type": "stream",
     "text": [
      " 47%|████▋     | 33/70 [09:43<11:08, 18.07s/it]/var/folders/zx/mr5vw08n18jfshsf89hf76v40000gn/T/ipykernel_20106/1805611762.py:20: DtypeWarning: Columns (0,1,2,3,4,5,6,7,8,9,10,11,12,13,14,15,16,17,18,19,20,21,22,23,24,25,26,27) have mixed types. Specify dtype option on import or set low_memory=False.\n",
      "  VF = pd.read_csv(VFname)\n"
     ]
    },
    {
     "name": "stdout",
     "output_type": "stream",
     "text": [
      "Total number of changes: 2777\n",
      "4\n",
      "Day_20_2ch_GFAP_D_2022-11-29T11_47_02.csv\n"
     ]
    },
    {
     "name": "stderr",
     "output_type": "stream",
     "text": [
      " 49%|████▊     | 34/70 [10:01<10:55, 18.22s/it]/var/folders/zx/mr5vw08n18jfshsf89hf76v40000gn/T/ipykernel_20106/1805611762.py:20: DtypeWarning: Columns (0,1,2,3,4,5,6,7,8,9,10,11,12,13,14,15,16,17,18,19,20,21,22,23,24,25,26,27) have mixed types. Specify dtype option on import or set low_memory=False.\n",
      "  VF = pd.read_csv(VFname)\n"
     ]
    },
    {
     "name": "stdout",
     "output_type": "stream",
     "text": [
      "Total number of changes: 1905\n",
      "5\n",
      "Day_20_2ch_GFAP_D_2022-11-29T12_15_00.csv\n"
     ]
    },
    {
     "name": "stderr",
     "output_type": "stream",
     "text": [
      " 50%|█████     | 35/70 [10:18<10:22, 17.80s/it]/var/folders/zx/mr5vw08n18jfshsf89hf76v40000gn/T/ipykernel_20106/1805611762.py:20: DtypeWarning: Columns (0,1,2,3,4,5,6,7,8,9,10,11,12,13,14,15,16,17,18,19,20,21,22,23,24,25,26,27) have mixed types. Specify dtype option on import or set low_memory=False.\n",
      "  VF = pd.read_csv(VFname)\n"
     ]
    },
    {
     "name": "stdout",
     "output_type": "stream",
     "text": [
      "Total number of changes: 3793\n",
      "1\n",
      "Day_21_2ch_GFAP_D_2022-12-01T10_52_52.csv\n"
     ]
    },
    {
     "name": "stderr",
     "output_type": "stream",
     "text": [
      " 51%|█████▏    | 36/70 [10:34<09:50, 17.38s/it]/var/folders/zx/mr5vw08n18jfshsf89hf76v40000gn/T/ipykernel_20106/1805611762.py:20: DtypeWarning: Columns (0,1,2,3,4,5,6,7,8,9,10,11,12,13,14,15,16,17,18,19,20,21,22,23,24,25,26,27) have mixed types. Specify dtype option on import or set low_memory=False.\n",
      "  VF = pd.read_csv(VFname)\n"
     ]
    },
    {
     "name": "stdout",
     "output_type": "stream",
     "text": [
      "Total number of changes: 1899\n",
      "2\n",
      "Day_21_2ch_GFAP_D_2022-12-01T11_33_07.csv\n"
     ]
    },
    {
     "name": "stderr",
     "output_type": "stream",
     "text": [
      " 53%|█████▎    | 37/70 [10:52<09:33, 17.37s/it]/var/folders/zx/mr5vw08n18jfshsf89hf76v40000gn/T/ipykernel_20106/1805611762.py:20: DtypeWarning: Columns (0,1,2,3,4,5,6,7,8,9,10,11,12,13,14,15,16,17,18,19,20,21,22,23,24,25,26,27) have mixed types. Specify dtype option on import or set low_memory=False.\n",
      "  VF = pd.read_csv(VFname)\n"
     ]
    },
    {
     "name": "stdout",
     "output_type": "stream",
     "text": [
      "Total number of changes: 3843\n",
      "3\n",
      "Day_21_2ch_GFAP_D_2022-12-01T11_56_58.csv\n"
     ]
    },
    {
     "name": "stderr",
     "output_type": "stream",
     "text": [
      " 54%|█████▍    | 38/70 [11:10<09:22, 17.56s/it]/var/folders/zx/mr5vw08n18jfshsf89hf76v40000gn/T/ipykernel_20106/1805611762.py:20: DtypeWarning: Columns (0,1,2,3,4,5,6,7,8,9,10,11,12,13,14,15,16,17,18,19,20,21,22,23,24,25,26,27) have mixed types. Specify dtype option on import or set low_memory=False.\n",
      "  VF = pd.read_csv(VFname)\n"
     ]
    },
    {
     "name": "stdout",
     "output_type": "stream",
     "text": [
      "Total number of changes: 3479\n",
      "4\n",
      "Day_21_2ch_GFAP_D_2022-12-01T12_20_32.csv\n"
     ]
    },
    {
     "name": "stderr",
     "output_type": "stream",
     "text": [
      " 56%|█████▌    | 39/70 [11:27<08:56, 17.29s/it]"
     ]
    },
    {
     "name": "stdout",
     "output_type": "stream",
     "text": [
      "Total number of changes: 5289\n",
      "5\n",
      "Day_21_2ch_GFAP_D_2022-12-01T12_43_33.csv\n"
     ]
    },
    {
     "name": "stderr",
     "output_type": "stream",
     "text": [
      " 57%|█████▋    | 40/70 [11:38<07:50, 15.68s/it]/var/folders/zx/mr5vw08n18jfshsf89hf76v40000gn/T/ipykernel_20106/1805611762.py:20: DtypeWarning: Columns (0,1,2,3,4,5,6,7,8,9,10,11,12,13,14,15,16,17,18,19,20,21,22,23,24,25,26,27) have mixed types. Specify dtype option on import or set low_memory=False.\n",
      "  VF = pd.read_csv(VFname)\n"
     ]
    },
    {
     "name": "stdout",
     "output_type": "stream",
     "text": [
      "Total number of changes: 5523\n",
      "1\n",
      "Day_22_2ch_GFAP_D_2022-12-02T16_13_06.csv\n"
     ]
    },
    {
     "name": "stderr",
     "output_type": "stream",
     "text": [
      " 59%|█████▊    | 41/70 [11:56<07:52, 16.28s/it]/var/folders/zx/mr5vw08n18jfshsf89hf76v40000gn/T/ipykernel_20106/1805611762.py:20: DtypeWarning: Columns (0,1,2,3,4,5,6,7,8,9,10,11,12,13,14,15,16,17,18,19,20,21,22,23,24,25,26,27) have mixed types. Specify dtype option on import or set low_memory=False.\n",
      "  VF = pd.read_csv(VFname)\n"
     ]
    },
    {
     "name": "stdout",
     "output_type": "stream",
     "text": [
      "Total number of changes: 4962\n",
      "2\n",
      "Day_22_2ch_GFAP_D_2022-12-02T16_38_17.csv\n"
     ]
    },
    {
     "name": "stderr",
     "output_type": "stream",
     "text": [
      " 60%|██████    | 42/70 [12:13<07:45, 16.61s/it]/var/folders/zx/mr5vw08n18jfshsf89hf76v40000gn/T/ipykernel_20106/1805611762.py:20: DtypeWarning: Columns (0,1,2,3,4,5,6,7,8,9,10,11,12,13,14,15,16,17,18,19,20,21,22,23,24,25,26,27) have mixed types. Specify dtype option on import or set low_memory=False.\n",
      "  VF = pd.read_csv(VFname)\n"
     ]
    },
    {
     "name": "stdout",
     "output_type": "stream",
     "text": [
      "Total number of changes: 6930\n",
      "3\n",
      "Day_22_2ch_GFAP_D_2022-12-02T17_03_23.csv\n"
     ]
    },
    {
     "name": "stderr",
     "output_type": "stream",
     "text": [
      " 61%|██████▏   | 43/70 [12:30<07:29, 16.66s/it]/var/folders/zx/mr5vw08n18jfshsf89hf76v40000gn/T/ipykernel_20106/1805611762.py:20: DtypeWarning: Columns (0,1,2,3,4,5,6,7,8,9,10,11,12,13,14,15,16,17,18,19,20,21,22,23,24,25,26,27) have mixed types. Specify dtype option on import or set low_memory=False.\n",
      "  VF = pd.read_csv(VFname)\n"
     ]
    },
    {
     "name": "stdout",
     "output_type": "stream",
     "text": [
      "Total number of changes: 5294\n",
      "4\n",
      "Day_22_2ch_GFAP_D_2022-12-02T17_26_57.csv\n"
     ]
    },
    {
     "name": "stderr",
     "output_type": "stream",
     "text": [
      " 63%|██████▎   | 44/70 [12:49<07:27, 17.20s/it]/var/folders/zx/mr5vw08n18jfshsf89hf76v40000gn/T/ipykernel_20106/1805611762.py:20: DtypeWarning: Columns (0,1,2,3,4,5,6,7,8,9,10,11,12,13,14,15,16,17,18,19,20,21,22,23,24,25,26,27) have mixed types. Specify dtype option on import or set low_memory=False.\n",
      "  VF = pd.read_csv(VFname)\n"
     ]
    },
    {
     "name": "stdout",
     "output_type": "stream",
     "text": [
      "Total number of changes: 7663\n",
      "5\n",
      "Day_22_2ch_GFAP_D_2022-12-02T17_54_38.csv\n"
     ]
    },
    {
     "name": "stderr",
     "output_type": "stream",
     "text": [
      " 64%|██████▍   | 45/70 [13:06<07:08, 17.15s/it]/var/folders/zx/mr5vw08n18jfshsf89hf76v40000gn/T/ipykernel_20106/1805611762.py:20: DtypeWarning: Columns (0,1,2,3,4,5,6,7,8,9,10,11,12,13,14,15,16,17,18,19,20,21,22,23,24,25,26,27) have mixed types. Specify dtype option on import or set low_memory=False.\n",
      "  VF = pd.read_csv(VFname)\n"
     ]
    },
    {
     "name": "stdout",
     "output_type": "stream",
     "text": [
      "Total number of changes: 2470\n",
      "1\n",
      "Day_23_2ch_GFAP_D_2022-12-05T12_41_23.csv\n"
     ]
    },
    {
     "name": "stderr",
     "output_type": "stream",
     "text": [
      " 66%|██████▌   | 46/70 [13:23<06:52, 17.20s/it]/var/folders/zx/mr5vw08n18jfshsf89hf76v40000gn/T/ipykernel_20106/1805611762.py:20: DtypeWarning: Columns (0,1,2,3,4,5,6,7,8,9,10,11,12,13,14,15,16,17,18,19,20,21,22,23,24,25,26,27) have mixed types. Specify dtype option on import or set low_memory=False.\n",
      "  VF = pd.read_csv(VFname)\n"
     ]
    },
    {
     "name": "stdout",
     "output_type": "stream",
     "text": [
      "Total number of changes: 2692\n",
      "2\n",
      "Day_23_2ch_GFAP_D_2022-12-05T13_04_22.csv\n"
     ]
    },
    {
     "name": "stderr",
     "output_type": "stream",
     "text": [
      " 67%|██████▋   | 47/70 [13:40<06:34, 17.17s/it]/var/folders/zx/mr5vw08n18jfshsf89hf76v40000gn/T/ipykernel_20106/1805611762.py:20: DtypeWarning: Columns (0,1,2,3,4,5,6,7,8,9,10,11,12,13,14,15,16,17,18,19,20,21,22,23,24,25,26,27) have mixed types. Specify dtype option on import or set low_memory=False.\n",
      "  VF = pd.read_csv(VFname)\n"
     ]
    },
    {
     "name": "stdout",
     "output_type": "stream",
     "text": [
      "Total number of changes: 3739\n",
      "3\n",
      "Day_23_2ch_GFAP_D_2022-12-05T13_27_07.csv\n"
     ]
    },
    {
     "name": "stderr",
     "output_type": "stream",
     "text": [
      " 69%|██████▊   | 48/70 [13:57<06:16, 17.11s/it]/var/folders/zx/mr5vw08n18jfshsf89hf76v40000gn/T/ipykernel_20106/1805611762.py:20: DtypeWarning: Columns (0,1,2,3,4,5,6,7,8,9,10,11,12,13,14,15,16,17,18,19,20,21,22,23,24,25,26,27) have mixed types. Specify dtype option on import or set low_memory=False.\n",
      "  VF = pd.read_csv(VFname)\n"
     ]
    },
    {
     "name": "stdout",
     "output_type": "stream",
     "text": [
      "Total number of changes: 3874\n",
      "4\n",
      "Day_23_2ch_GFAP_D_2022-12-05T13_51_17.csv\n"
     ]
    },
    {
     "name": "stderr",
     "output_type": "stream",
     "text": [
      " 70%|███████   | 49/70 [14:14<05:56, 16.99s/it]/var/folders/zx/mr5vw08n18jfshsf89hf76v40000gn/T/ipykernel_20106/1805611762.py:20: DtypeWarning: Columns (0,1,2,3,4,5,6,7,8,9,10,11,12,13,14,15,16,17,18,19,20,21,22,23,24,25,26,27) have mixed types. Specify dtype option on import or set low_memory=False.\n",
      "  VF = pd.read_csv(VFname)\n"
     ]
    },
    {
     "name": "stdout",
     "output_type": "stream",
     "text": [
      "Total number of changes: 5541\n",
      "5\n",
      "Day_23_2ch_GFAP_D_2022-12-05T14_13_02.csv\n"
     ]
    },
    {
     "name": "stderr",
     "output_type": "stream",
     "text": [
      " 71%|███████▏  | 50/70 [14:33<05:50, 17.52s/it]/var/folders/zx/mr5vw08n18jfshsf89hf76v40000gn/T/ipykernel_20106/1805611762.py:20: DtypeWarning: Columns (0,1,2,3,4,5,6,7,8,9,10,11,12,13,14,15,16,17,18,19,20,21,22,23,24,25,26,27) have mixed types. Specify dtype option on import or set low_memory=False.\n",
      "  VF = pd.read_csv(VFname)\n"
     ]
    },
    {
     "name": "stdout",
     "output_type": "stream",
     "text": [
      "Total number of changes: 4356\n",
      "1\n",
      "Day_24_2ch_GFAP_D_2022-12-06T13_40_09.csv\n"
     ]
    },
    {
     "name": "stderr",
     "output_type": "stream",
     "text": [
      " 73%|███████▎  | 51/70 [14:50<05:34, 17.60s/it]/var/folders/zx/mr5vw08n18jfshsf89hf76v40000gn/T/ipykernel_20106/1805611762.py:20: DtypeWarning: Columns (0,1,2,3,4,5,6,7,8,9,10,11,12,13,14,15,16,17,18,19,20,21,22,23,24,25,26,27) have mixed types. Specify dtype option on import or set low_memory=False.\n",
      "  VF = pd.read_csv(VFname)\n"
     ]
    },
    {
     "name": "stdout",
     "output_type": "stream",
     "text": [
      "Total number of changes: 2532\n",
      "2\n",
      "Day_24_2ch_GFAP_D_2022-12-06T14_04_05.csv\n"
     ]
    },
    {
     "name": "stderr",
     "output_type": "stream",
     "text": [
      " 74%|███████▍  | 52/70 [15:08<05:15, 17.55s/it]/var/folders/zx/mr5vw08n18jfshsf89hf76v40000gn/T/ipykernel_20106/1805611762.py:20: DtypeWarning: Columns (0,1,2,3,4,5,6,7,8,9,10,11,12,13,14,15,16,17,18,19,20,21,22,23,24,25,26,27) have mixed types. Specify dtype option on import or set low_memory=False.\n",
      "  VF = pd.read_csv(VFname)\n"
     ]
    },
    {
     "name": "stdout",
     "output_type": "stream",
     "text": [
      "Total number of changes: 3819\n",
      "3\n",
      "Day_24_2ch_GFAP_D_2022-12-06T14_27_05.csv\n"
     ]
    },
    {
     "name": "stderr",
     "output_type": "stream",
     "text": [
      " 76%|███████▌  | 53/70 [15:28<05:10, 18.24s/it]/var/folders/zx/mr5vw08n18jfshsf89hf76v40000gn/T/ipykernel_20106/1805611762.py:20: DtypeWarning: Columns (0,1,2,3,4,5,6,7,8,9,10,11,12,13,14,15,16,17,18,19,20,21,22,23,24,25,26,27) have mixed types. Specify dtype option on import or set low_memory=False.\n",
      "  VF = pd.read_csv(VFname)\n"
     ]
    },
    {
     "name": "stdout",
     "output_type": "stream",
     "text": [
      "Total number of changes: 2498\n",
      "4\n",
      "Day_24_2ch_GFAP_D_2022-12-06T14_56_08.csv\n"
     ]
    },
    {
     "name": "stderr",
     "output_type": "stream",
     "text": [
      " 77%|███████▋  | 54/70 [15:44<04:44, 17.80s/it]/var/folders/zx/mr5vw08n18jfshsf89hf76v40000gn/T/ipykernel_20106/1805611762.py:20: DtypeWarning: Columns (0,1,2,3,4,5,6,7,8,9,10,11,12,13,14,15,16,17,18,19,20,21,22,23,24,25,26,27) have mixed types. Specify dtype option on import or set low_memory=False.\n",
      "  VF = pd.read_csv(VFname)\n"
     ]
    },
    {
     "name": "stdout",
     "output_type": "stream",
     "text": [
      "Total number of changes: 2920\n",
      "5\n",
      "Day_24_2ch_GFAP_D_2022-12-06T15_18_24.csv\n"
     ]
    },
    {
     "name": "stderr",
     "output_type": "stream",
     "text": [
      " 79%|███████▊  | 55/70 [16:01<04:22, 17.49s/it]/var/folders/zx/mr5vw08n18jfshsf89hf76v40000gn/T/ipykernel_20106/1805611762.py:20: DtypeWarning: Columns (0,1,2,3,4,5,6,7,8,9,10,11,12,13,14,15,16,17,18,19,20,21,22,23,24,25,26,27) have mixed types. Specify dtype option on import or set low_memory=False.\n",
      "  VF = pd.read_csv(VFname)\n"
     ]
    },
    {
     "name": "stdout",
     "output_type": "stream",
     "text": [
      "Total number of changes: 3795\n",
      "1\n",
      "Day_25_2ch_GFAP_D_2022-12-09T10_32_10.csv\n"
     ]
    },
    {
     "name": "stderr",
     "output_type": "stream",
     "text": [
      " 80%|████████  | 56/70 [16:19<04:05, 17.53s/it]/var/folders/zx/mr5vw08n18jfshsf89hf76v40000gn/T/ipykernel_20106/1805611762.py:20: DtypeWarning: Columns (0,1,2,3,4,5,6,7,8,9,10,11,12,13,14,15,16,17,18,19,20,21,22,23,24,25,26,27) have mixed types. Specify dtype option on import or set low_memory=False.\n",
      "  VF = pd.read_csv(VFname)\n"
     ]
    },
    {
     "name": "stdout",
     "output_type": "stream",
     "text": [
      "Total number of changes: 3089\n",
      "2\n",
      "Day_25_2ch_GFAP_D_2022-12-09T10_55_50.csv\n"
     ]
    },
    {
     "name": "stderr",
     "output_type": "stream",
     "text": [
      " 81%|████████▏ | 57/70 [16:37<03:52, 17.86s/it]/var/folders/zx/mr5vw08n18jfshsf89hf76v40000gn/T/ipykernel_20106/1805611762.py:20: DtypeWarning: Columns (0,1,2,3,4,5,6,7,8,9,10,11,12,13,14,15,16,17,18,19,20,21,22,23,24,25,26,27) have mixed types. Specify dtype option on import or set low_memory=False.\n",
      "  VF = pd.read_csv(VFname)\n"
     ]
    },
    {
     "name": "stdout",
     "output_type": "stream",
     "text": [
      "Total number of changes: 3060\n",
      "3\n",
      "Day_25_2ch_GFAP_D_2022-12-09T11_23_29.csv\n"
     ]
    },
    {
     "name": "stderr",
     "output_type": "stream",
     "text": [
      " 83%|████████▎ | 58/70 [16:55<03:33, 17.76s/it]/var/folders/zx/mr5vw08n18jfshsf89hf76v40000gn/T/ipykernel_20106/1805611762.py:20: DtypeWarning: Columns (0,1,2,3,4,5,6,7,8,9,10,11,12,13,14,15,16,17,18,19,20,21,22,23,24,25,26,27) have mixed types. Specify dtype option on import or set low_memory=False.\n",
      "  VF = pd.read_csv(VFname)\n"
     ]
    },
    {
     "name": "stdout",
     "output_type": "stream",
     "text": [
      "Total number of changes: 2654\n",
      "4\n",
      "Day_25_2ch_GFAP_D_2022-12-09T11_49_58.csv\n"
     ]
    },
    {
     "name": "stderr",
     "output_type": "stream",
     "text": [
      " 84%|████████▍ | 59/70 [17:13<03:14, 17.72s/it]/var/folders/zx/mr5vw08n18jfshsf89hf76v40000gn/T/ipykernel_20106/1805611762.py:20: DtypeWarning: Columns (0,1,2,3,4,5,6,7,8,9,10,11,12,13,14,15,16,17,18,19,20,21,22,23,24,25,26,27) have mixed types. Specify dtype option on import or set low_memory=False.\n",
      "  VF = pd.read_csv(VFname)\n"
     ]
    },
    {
     "name": "stdout",
     "output_type": "stream",
     "text": [
      "Total number of changes: 3596\n",
      "5\n",
      "Day_25_2ch_GFAP_D_2022-12-09T12_17_47.csv\n"
     ]
    },
    {
     "name": "stderr",
     "output_type": "stream",
     "text": [
      " 86%|████████▌ | 60/70 [17:38<03:20, 20.02s/it]/var/folders/zx/mr5vw08n18jfshsf89hf76v40000gn/T/ipykernel_20106/1805611762.py:20: DtypeWarning: Columns (0,1,2,3,4,5,6,7,8,9,10,11,12,13,14,15,16,17,18,19,20,21,22,23,24,25,26,27) have mixed types. Specify dtype option on import or set low_memory=False.\n",
      "  VF = pd.read_csv(VFname)\n"
     ]
    },
    {
     "name": "stdout",
     "output_type": "stream",
     "text": [
      "Total number of changes: 3140\n",
      "1\n",
      "Day_26_2ch_GFAP_D_2022-12-12T12_33_28.csv\n"
     ]
    },
    {
     "name": "stderr",
     "output_type": "stream",
     "text": [
      " 87%|████████▋ | 61/70 [18:40<04:52, 32.55s/it]/var/folders/zx/mr5vw08n18jfshsf89hf76v40000gn/T/ipykernel_20106/1805611762.py:20: DtypeWarning: Columns (0,1,2,3,4,5,6,7,8,9,10,11,12,13,14,15,16,17,18,19,20,21,22,23,24,25,26,27) have mixed types. Specify dtype option on import or set low_memory=False.\n",
      "  VF = pd.read_csv(VFname)\n"
     ]
    },
    {
     "name": "stdout",
     "output_type": "stream",
     "text": [
      "Total number of changes: 3558\n",
      "2\n",
      "Day_26_2ch_GFAP_D_2022-12-12T13_01_00.csv\n"
     ]
    },
    {
     "name": "stderr",
     "output_type": "stream",
     "text": [
      " 89%|████████▊ | 62/70 [19:09<04:11, 31.46s/it]/var/folders/zx/mr5vw08n18jfshsf89hf76v40000gn/T/ipykernel_20106/1805611762.py:20: DtypeWarning: Columns (0,1,2,3,4,5,6,7,8,9,10,11,12,13,14,15,16,17,18,19,20,21,22,23,24,25,26,27) have mixed types. Specify dtype option on import or set low_memory=False.\n",
      "  VF = pd.read_csv(VFname)\n"
     ]
    },
    {
     "name": "stdout",
     "output_type": "stream",
     "text": [
      "Total number of changes: 5059\n",
      "3\n",
      "Day_26_2ch_GFAP_D_2022-12-12T13_28_30.csv\n"
     ]
    },
    {
     "name": "stderr",
     "output_type": "stream",
     "text": [
      " 90%|█████████ | 63/70 [20:09<04:40, 40.13s/it]/var/folders/zx/mr5vw08n18jfshsf89hf76v40000gn/T/ipykernel_20106/1805611762.py:20: DtypeWarning: Columns (0,1,2,3,4,5,6,7,8,9,10,11,12,13,14,15,16,17,18,19,20,21,22,23,24,25,26,27) have mixed types. Specify dtype option on import or set low_memory=False.\n",
      "  VF = pd.read_csv(VFname)\n"
     ]
    },
    {
     "name": "stdout",
     "output_type": "stream",
     "text": [
      "Total number of changes: 3834\n",
      "4\n",
      "Day_26_2ch_GFAP_D_2022-12-12T13_56_25.csv\n"
     ]
    },
    {
     "name": "stderr",
     "output_type": "stream",
     "text": [
      " 91%|█████████▏| 64/70 [20:28<03:21, 33.65s/it]/var/folders/zx/mr5vw08n18jfshsf89hf76v40000gn/T/ipykernel_20106/1805611762.py:20: DtypeWarning: Columns (0,1,2,3,4,5,6,7,8,9,10,11,12,13,14,15,16,17,18,19,20,21,22,23,24,25,26,27) have mixed types. Specify dtype option on import or set low_memory=False.\n",
      "  VF = pd.read_csv(VFname)\n"
     ]
    },
    {
     "name": "stdout",
     "output_type": "stream",
     "text": [
      "Total number of changes: 3294\n",
      "5\n",
      "Day_26_2ch_GFAP_D_2022-12-12T14_20_36.csv\n"
     ]
    },
    {
     "name": "stderr",
     "output_type": "stream",
     "text": [
      " 93%|█████████▎| 65/70 [20:45<02:23, 28.62s/it]/var/folders/zx/mr5vw08n18jfshsf89hf76v40000gn/T/ipykernel_20106/1805611762.py:20: DtypeWarning: Columns (0,1,2,3,4,5,6,7,8,9,10,11,12,13,14,15,16,17,18,19,20,21,22,23,24,25,26,27) have mixed types. Specify dtype option on import or set low_memory=False.\n",
      "  VF = pd.read_csv(VFname)\n"
     ]
    },
    {
     "name": "stdout",
     "output_type": "stream",
     "text": [
      "Total number of changes: 2846\n",
      "1\n",
      "Day_27_2ch_GFAP_D_2022-12-14T10_29_14.csv\n"
     ]
    },
    {
     "name": "stderr",
     "output_type": "stream",
     "text": [
      " 94%|█████████▍| 66/70 [21:04<01:43, 25.90s/it]/var/folders/zx/mr5vw08n18jfshsf89hf76v40000gn/T/ipykernel_20106/1805611762.py:20: DtypeWarning: Columns (0,1,2,3,4,5,6,7,8,9,10,11,12,13,14,15,16,17,18,19,20,21,22,23,24,25,26,27) have mixed types. Specify dtype option on import or set low_memory=False.\n",
      "  VF = pd.read_csv(VFname)\n"
     ]
    },
    {
     "name": "stdout",
     "output_type": "stream",
     "text": [
      "Total number of changes: 2320\n",
      "2\n",
      "Day_27_2ch_GFAP_D_2022-12-14T10_57_39.csv\n"
     ]
    },
    {
     "name": "stderr",
     "output_type": "stream",
     "text": [
      " 96%|█████████▌| 67/70 [21:22<01:10, 23.39s/it]/var/folders/zx/mr5vw08n18jfshsf89hf76v40000gn/T/ipykernel_20106/1805611762.py:20: DtypeWarning: Columns (0,1,2,3,4,5,6,7,8,9,10,11,12,13,14,15,16,17,18,19,20,21,22,23,24,25,26,27) have mixed types. Specify dtype option on import or set low_memory=False.\n",
      "  VF = pd.read_csv(VFname)\n"
     ]
    },
    {
     "name": "stdout",
     "output_type": "stream",
     "text": [
      "Total number of changes: 2727\n",
      "3\n",
      "Day_27_2ch_GFAP_D_2022-12-14T11_22_50.csv\n"
     ]
    },
    {
     "name": "stderr",
     "output_type": "stream",
     "text": [
      " 97%|█████████▋| 68/70 [21:39<00:43, 21.52s/it]/var/folders/zx/mr5vw08n18jfshsf89hf76v40000gn/T/ipykernel_20106/1805611762.py:20: DtypeWarning: Columns (0,1,2,3,4,5,6,7,8,9,10,11,12,13,14,15,16,17,18,19,20,21,22,23,24,25,26,27) have mixed types. Specify dtype option on import or set low_memory=False.\n",
      "  VF = pd.read_csv(VFname)\n"
     ]
    },
    {
     "name": "stdout",
     "output_type": "stream",
     "text": [
      "Total number of changes: 2396\n",
      "4\n",
      "Day_27_2ch_GFAP_D_2022-12-14T11_47_10.csv\n"
     ]
    },
    {
     "name": "stderr",
     "output_type": "stream",
     "text": [
      " 99%|█████████▊| 69/70 [21:55<00:20, 20.07s/it]/var/folders/zx/mr5vw08n18jfshsf89hf76v40000gn/T/ipykernel_20106/1805611762.py:20: DtypeWarning: Columns (0,1,2,3,4,5,6,7,8,9,10,11,12,13,14,15,16,17,18,19,20,21,22,23,24,25,26,27) have mixed types. Specify dtype option on import or set low_memory=False.\n",
      "  VF = pd.read_csv(VFname)\n"
     ]
    },
    {
     "name": "stdout",
     "output_type": "stream",
     "text": [
      "Total number of changes: 3513\n",
      "5\n",
      "Day_27_2ch_GFAP_D_2022-12-14T12_11_26.csv\n"
     ]
    },
    {
     "name": "stderr",
     "output_type": "stream",
     "text": [
      "100%|██████████| 70/70 [22:14<00:00, 19.06s/it]\n"
     ]
    }
   ],
   "source": [
    "for idx in tqdm(range(len(VFname_list))): \n",
    "    animal_number = idx%5 +1 \n",
    "    \n",
    "    VF_ttl_combiner(VFname_list[idx], ttlname_list[idx],animal_number )\n",
    "    \n",
    "    "
   ]
  },
  {
   "cell_type": "code",
   "execution_count": 26,
   "id": "cb035d92-9537-4a98-ae90-c6d8333a157f",
   "metadata": {},
   "outputs": [],
   "source": [
    "VFname_list = []\n",
    "ttlname_list = []\n",
    "for count, value in enumerate(all_list):\n",
    "    if count%3 == 0:\n",
    "        ttlname_list.append(value)\n",
    "    elif count%3 == 2:\n",
    "        VFname_list.append(value)"
   ]
  },
  {
   "cell_type": "code",
   "execution_count": null,
   "id": "be8a4d84-6deb-4d70-95c4-87ce241b2990",
   "metadata": {},
   "outputs": [],
   "source": []
  }
 ],
 "metadata": {
  "kernelspec": {
   "display_name": "striatum-2choice-kernel",
   "language": "python",
   "name": "striatum-2choice-kernel"
  },
  "language_info": {
   "codemirror_mode": {
    "name": "ipython",
    "version": 3
   },
   "file_extension": ".py",
   "mimetype": "text/x-python",
   "name": "python",
   "nbconvert_exporter": "python",
   "pygments_lexer": "ipython3",
   "version": "3.8.3"
  }
 },
 "nbformat": 4,
 "nbformat_minor": 5
}
